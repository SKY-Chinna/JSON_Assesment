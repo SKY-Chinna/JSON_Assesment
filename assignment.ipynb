{
 "cells": [
  {
   "cell_type": "code",
   "execution_count": 14,
   "id": "c57b9d69",
   "metadata": {},
   "outputs": [
    {
     "name": "stdout",
     "output_type": "stream",
     "text": [
      "Successfully created the file\n"
     ]
    }
   ],
   "source": [
    "import pandas as pd\n",
    "import json\n",
    "import csv\n",
    "import requests\n",
    "from collections import Counter\n",
    "\n",
    "\n",
    "class Assesment:\n",
    "    def __init__(self, store_path):\n",
    "        self.store_path=store_path\n",
    "        self.base_df = pd.DataFrame()\n",
    "        self.first_df = None\n",
    "        self.second_df= None\n",
    "        \n",
    "    def read_file(self):\n",
    "        \"\"\"read the file\"\"\"\n",
    "        self.base_df=pd.read_json(self.store_path)\n",
    "        return self.base_df\n",
    "    def test_1(self):\n",
    "        \"\"\" sort the label and count the occurences of labels\"\"\"\n",
    "        df_sorted=self.base_df['maker_response']['sensor_fusion_v2']['data']['tracks']\n",
    "        li=[]\n",
    "        for i in df_sorted:\n",
    "            li.append(i['label'])\n",
    "        d = {i:li.count(i) for i in li}\n",
    "        self.first_df = pd.DataFrame(list(d.items()), columns = ['label', 'count'])\n",
    "        \n",
    "    def excel_file(self):\n",
    "        \"\"\" save the mutliple dataframes into a single excel sheet consiting of multiple sheets in excel\"\"\"\n",
    "        if not self.first_df.empty and not self.second_df.empty:\n",
    "            with pd.ExcelWriter('final_output.xlsx') as writer:\n",
    "                self.first_df.to_excel(writer, sheet_name='Output_1', index=False)\n",
    "                self.second_df.to_excel(writer, sheet_name='Output_2', index=False)\n",
    "        print(\"Successfully created the file\")\n",
    "        \n",
    "    def test_2(self):\n",
    "        \"\"\" Create a dataframe consists of  ['label', 'attribute_name', 'attribute_value', 'attribute_count']\"\"\"\n",
    "        data=[]\n",
    "        for building in self.base_df['maker_response']['sensor_fusion_v2']['data']['annotations']:\n",
    "            field_name=building[\"label\"]\n",
    "            for key,val in building['attributes'].items():\n",
    "                attribute_name=key\n",
    "                attribute_value=val['value']\n",
    "                data.append({'label': field_name, 'attribute_name': attribute_name, 'attribute_value': attribute_value})\n",
    "        data_df = pd.DataFrame(data)\n",
    "        data_df['label'] = data_df['label'].apply(str)\n",
    "        data_df['attribute_name'] = data_df['attribute_name'].apply(str)\n",
    "        data_df['attribute_value'] = data_df['attribute_value'].apply(str)\n",
    "        self.second_df=data_df.groupby(['label', 'attribute_name', 'attribute_value']).value_counts().reset_index(name='attribute_count')\n",
    "        self.second_df\n",
    "        \n",
    "    def save(self):\n",
    "        self.read_file()\n",
    "        self.test_1()\n",
    "        self.test_2()\n",
    "        self.excel_file()\n",
    "        \n",
    "if __name__ == '__main__':\n",
    "    '''Provide the path or url '''\n",
    "    store_path=\"C:\\\\Users\\\\admin\\\\Downloads\\\\build.json\"\n",
    "    faObj = Assesment(store_path)\n",
    "    faObj.save()\n",
    "        "
   ]
  },
  {
   "cell_type": "code",
   "execution_count": null,
   "id": "6322f6a2",
   "metadata": {},
   "outputs": [],
   "source": []
  }
 ],
 "metadata": {
  "kernelspec": {
   "display_name": "Python 3 (ipykernel)",
   "language": "python",
   "name": "python3"
  },
  "language_info": {
   "codemirror_mode": {
    "name": "ipython",
    "version": 3
   },
   "file_extension": ".py",
   "mimetype": "text/x-python",
   "name": "python",
   "nbconvert_exporter": "python",
   "pygments_lexer": "ipython3",
   "version": "3.10.11"
  }
 },
 "nbformat": 4,
 "nbformat_minor": 5
}
